{
 "cells": [
  {
   "cell_type": "markdown",
   "metadata": {},
   "source": [
    "## Elastic client"
   ]
  },
  {
   "cell_type": "code",
   "execution_count": 11,
   "metadata": {},
   "outputs": [
    {
     "name": "stdout",
     "output_type": "stream",
     "text": [
      "Requirement already satisfied: PyPDF2 in /Users/rahuldebdas/anaconda3/lib/python3.11/site-packages (3.0.1)\n"
     ]
    }
   ],
   "source": [
    "!pip install PyPDF2"
   ]
  },
  {
   "cell_type": "code",
   "execution_count": 13,
   "metadata": {},
   "outputs": [],
   "source": [
    "from elasticsearch import Elasticsearch, helpers\n",
    "import csv\n",
    "from PyPDF2 import PdfReader\n",
    "import time\n",
    "import pandas as pd\n",
    "import os"
   ]
  },
  {
   "cell_type": "code",
   "execution_count": 14,
   "metadata": {},
   "outputs": [],
   "source": [
    "# Credential file\n",
    "df = pd.read_csv('./elastic credential/watsonx_discovery_credential_tzwx24.csv') # change the path as per your need"
   ]
  },
  {
   "cell_type": "code",
   "execution_count": 15,
   "metadata": {},
   "outputs": [],
   "source": [
    "# setting up the credential\n",
    "ELASTIC_USER = df.iloc[0]['username']\n",
    "ELASTIC_PW = df.iloc[0]['password']\n",
    "ELASTIC_HOST = df.iloc[0]['watsonx_discovery_url'] # WxD Endpoint\n",
    "ELASTIC_PORT = df.iloc[0]['port']  #  port number\n",
    "ELASTIC_CERT_FILE = \"./elastic_certificate/es.cert\" # path containing certiifcation - change as per your need\n",
    "INGEST_PIPELINE_NAME=\"e5-pipeline\"\n",
    "INDEX_NAME_DOC=\"index-e5\"\n",
    "MODEL_ID=\".multilingual-e5-small\"\n",
    "MODEL_ID_E5 = MODEL_ID\n",
    "INDEX_NAME_E5 = INDEX_NAME_DOC\n",
    "INGEST_PIPELINE_NAME_E5 = INGEST_PIPELINE_NAME"
   ]
  },
  {
   "cell_type": "code",
   "execution_count": 16,
   "metadata": {},
   "outputs": [],
   "source": [
    "client = Elasticsearch(\n",
    "     ELASTIC_HOST+':'+str(ELASTIC_PORT),  # Elasticsearch endpoint\n",
    "     basic_auth=(ELASTIC_USER, ELASTIC_PW),\n",
    "     ca_certs=ELASTIC_CERT_FILE,\n",
    "     verify_certs=True,\n",
    "     request_timeout=120\n",
    ")"
   ]
  },
  {
   "cell_type": "code",
   "execution_count": 47,
   "metadata": {},
   "outputs": [],
   "source": [
    "# This part should be the output of TXT_text_extraction-e5_v3.py\n",
    "doc_folder = ''\n",
    "src = f'./data_output_txt2csv_v3/{doc_folder}/{doc_folder}.csv' # change the path as per your need"
   ]
  },
  {
   "cell_type": "code",
   "execution_count": 48,
   "metadata": {},
   "outputs": [
    {
     "data": {
      "text/plain": [
       "36"
      ]
     },
     "execution_count": 48,
     "metadata": {},
     "output_type": "execute_result"
    }
   ],
   "source": [
    "#Create list of doc objects from csv\n",
    "docs = []\n",
    "#with open('pdf_text_2078.csv','r') as csvin:\n",
    "with open(src,'r') as csvin:\n",
    "    reader = csv.reader(csvin, delimiter=\",\")\n",
    "    for line in reader:\n",
    "        doc= {\n",
    "            \"_index\": INDEX_NAME_E5,\n",
    "            \"pipeline\": INGEST_PIPELINE_NAME_E5,\n",
    "            \"_source\": {\n",
    "                        'title': line[0],\n",
    "                        'url': line[1],\n",
    "                        'chunk_num': line[2],\n",
    "                        'text':  line[3]\n",
    "                        },\n",
    "            \"_id\": line[1] + \"_\" + line[2],    #url+chunk_num\n",
    "        }\n",
    "        docs.append(doc)\n",
    "len(docs)"
   ]
  },
  {
   "cell_type": "code",
   "execution_count": null,
   "metadata": {},
   "outputs": [],
   "source": [
    "docs"
   ]
  },
  {
   "cell_type": "code",
   "execution_count": 37,
   "metadata": {},
   "outputs": [],
   "source": [
    "### Files in CSV format to be ingested"
   ]
  },
  {
   "cell_type": "markdown",
   "metadata": {},
   "source": [
    "## Insert Documents directly with E5 pipeline"
   ]
  },
  {
   "cell_type": "code",
   "execution_count": 50,
   "metadata": {},
   "outputs": [
    {
     "name": "stdout",
     "output_type": "stream",
     "text": [
      "Uploading chunk 1/4\n",
      "Uploading chunk 2/4\n",
      "Uploading chunk 3/4\n",
      "Uploading chunk 4/4\n"
     ]
    }
   ],
   "source": [
    "#Use Elasticsearch helper to load docs into index in batches\n",
    "batch_size = 10\n",
    "batch = [docs[i:i + batch_size] for i in range(0, len(docs), batch_size)]\n",
    "\n",
    "for i, chunk in enumerate(batch):\n",
    "    print(f\"Uploading chunk {i+1}/{len(batch)}\")\n",
    "    try:\n",
    "        helpers.bulk(client, chunk, timeout=\"360s\")\n",
    "    except Exception as e:\n",
    "        print(f\"Error: {e}. Moving on...\")\n",
    "        time.sleep(10)\n",
    "        continue"
   ]
  },
  {
   "cell_type": "markdown",
   "metadata": {},
   "source": []
  }
 ],
 "metadata": {
  "kernelspec": {
   "display_name": "Python 3",
   "language": "python",
   "name": "python3"
  },
  "language_info": {
   "codemirror_mode": {
    "name": "ipython",
    "version": 3
   },
   "file_extension": ".py",
   "mimetype": "text/x-python",
   "name": "python",
   "nbconvert_exporter": "python",
   "pygments_lexer": "ipython3",
   "version": "3.11.4"
  }
 },
 "nbformat": 4,
 "nbformat_minor": 2
}
