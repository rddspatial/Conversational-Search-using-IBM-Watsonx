{
 "cells": [
  {
   "cell_type": "markdown",
   "id": "0cdde9e9",
   "metadata": {},
   "source": [
    "# Introduction\n",
    "\n",
    "* Connect to Elasticsearch\n",
    "* Download and deploy embedding model to Elasticsearch\n",
    "* Create Pipeline and Index\n",
    "\n",
    "These notebooks were tested with Python 3.11.9"
   ]
  },
  {
   "cell_type": "code",
   "execution_count": 1,
   "id": "4d83c496",
   "metadata": {},
   "outputs": [],
   "source": [
    "import time\n",
    "from elasticsearch import Elasticsearch, helpers, exceptions\n",
    "import csv\n",
    "import pandas as pd\n",
    "import os"
   ]
  },
  {
   "cell_type": "code",
   "execution_count": 2,
   "id": "59fc9bf2",
   "metadata": {},
   "outputs": [],
   "source": [
    "# credential file\n",
    "df = pd.read_csv('./elastic credential/watsonx_discovery_credential_tzwx24.csv') #change the path as per your need"
   ]
  },
  {
   "cell_type": "code",
   "execution_count": 3,
   "id": "508d8017",
   "metadata": {},
   "outputs": [],
   "source": [
    "# setting up the credential\n",
    "ELASTIC_USER = df.iloc[0]['username']\n",
    "ELASTIC_PW = df.iloc[0]['password']\n",
    "ELASTIC_HOST = df.iloc[0]['watsonx_discovery_url'] # WxD Endpoint\n",
    "ELASTIC_PORT = df.iloc[0]['port']  #  port number\n",
    "ELASTIC_CERT_FILE = \"./elastic_certificate/es.cert\" # path containing certiifcation\n",
    "INGEST_PIPELINE_NAME=\"e5-pipeline\"\n",
    "INDEX_NAME_DOC=\"index-e5\"\n",
    "MODEL_ID=\".multilingual-e5-small\"\n",
    "MODEL_ID_E5 = MODEL_ID"
   ]
  },
  {
   "cell_type": "code",
   "execution_count": 4,
   "id": "664bbc30",
   "metadata": {},
   "outputs": [],
   "source": [
    "client = Elasticsearch(\n",
    "     ELASTIC_HOST+':'+str(ELASTIC_PORT),  # Elasticsearch endpoint\n",
    "     basic_auth=(ELASTIC_USER, ELASTIC_PW),\n",
    "     ca_certs=ELASTIC_CERT_FILE,\n",
    "     verify_certs=True,\n",
    "     request_timeout=120\n",
    ")"
   ]
  },
  {
   "cell_type": "code",
   "execution_count": null,
   "id": "8d958223",
   "metadata": {},
   "outputs": [],
   "source": [
    "print(client.info())"
   ]
  },
  {
   "cell_type": "code",
   "execution_count": null,
   "id": "702515d0",
   "metadata": {},
   "outputs": [],
   "source": [
    "# delete model if already downloaded and deployed\n",
    "try:\n",
    "  client.ml.delete_trained_model(model_id=MODEL_ID_E5,force=True)\n",
    "  print(\"Model deleted successfully, We will proceed with creating one\")\n",
    "except exceptions.NotFoundError:\n",
    "  print(\"Model doesn't exist, but We will proceed with creating one\")\n",
    "\n",
    "# Creates the embedding model configuration. Automatically downloads the model if it doesn't exist. \n",
    "client.ml.put_trained_model(\n",
    "    model_id=MODEL_ID_E5,\n",
    "    input={\n",
    "      \"field_names\": [\"text_field\"]\n",
    "    }\n",
    "  )\n"
   ]
  },
  {
   "cell_type": "code",
   "execution_count": 7,
   "id": "5ec05cbd",
   "metadata": {},
   "outputs": [
    {
     "data": {
      "text/plain": [
       "ObjectApiResponse({'stopped': True})"
      ]
     },
     "execution_count": 7,
     "metadata": {},
     "output_type": "execute_result"
    }
   ],
   "source": [
    "MODEL_ID_ELSER = '.elser_model_2'\n",
    "MODEL_ID_e5_small = '.multilingual-e5-small'\n",
    "\n",
    "model_to_delete = MODEL_ID_E5\n",
    "\n",
    "client.ml.stop_trained_model_deployment(\n",
    "  model_id=model_to_delete,\n",
    " # number_of_allocations=2, # it can increase depending on volume of data\n",
    " # threads_per_allocation=2,\n",
    " # wait_for=\"starting\"\n",
    ")"
   ]
  },
  {
   "cell_type": "code",
   "execution_count": 8,
   "id": "adfa87de",
   "metadata": {},
   "outputs": [
    {
     "name": "stdout",
     "output_type": "stream",
     "text": [
      "E5 Model is downloaded but not ready to be deployed.\n",
      "E5 Model is downloaded but not ready to be deployed.\n",
      "E5 Model is downloaded but not ready to be deployed.\n",
      "E5 Model is downloaded but not ready to be deployed.\n",
      "E5 Model is downloaded but not ready to be deployed.\n",
      "E5 Model is downloaded but not ready to be deployed.\n",
      "E5 Model is downloaded but not ready to be deployed.\n",
      "E5 Model is downloaded but not ready to be deployed.\n",
      "E5 Model is downloaded but not ready to be deployed.\n",
      "E5 Model is downloaded but not ready to be deployed.\n",
      "E5 Model is downloaded but not ready to be deployed.\n",
      "E5 Model is downloaded but not ready to be deployed.\n",
      "E5 Model is downloaded but not ready to be deployed.\n",
      "E5 Model is downloaded but not ready to be deployed.\n",
      "E5 Model is downloaded but not ready to be deployed.\n",
      "E5 Model is downloaded but not ready to be deployed.\n",
      "E5 Model is downloaded but not ready to be deployed.\n",
      "E5 Model is downloaded but not ready to be deployed.\n",
      "E5 Model is downloaded but not ready to be deployed.\n",
      "E5 Model is downloaded but not ready to be deployed.\n",
      "E5 Model is downloaded but not ready to be deployed.\n",
      "E5 Model is downloaded but not ready to be deployed.\n",
      "E5 Model is downloaded but not ready to be deployed.\n",
      "E5 Model is downloaded and ready to be deployed.\n"
     ]
    }
   ],
   "source": [
    "while True:\n",
    "    status = client.ml.get_trained_models(\n",
    "        model_id=MODEL_ID_E5,\n",
    "        include=\"definition_status\"\n",
    "    )\n",
    "    \n",
    "    if (status[\"trained_model_configs\"][0][\"fully_defined\"]):\n",
    "        print(\"E5 Model is downloaded and ready to be deployed.\")\n",
    "        break\n",
    "    else:\n",
    "        print(\"E5 Model is downloaded but not ready to be deployed.\")\n",
    "    time.sleep(5)"
   ]
  },
  {
   "cell_type": "code",
   "execution_count": 9,
   "id": "ccd6288d",
   "metadata": {},
   "outputs": [
    {
     "name": "stdout",
     "output_type": "stream",
     "text": [
      "E5 Model is currently being deployed.\n",
      "E5 Model is currently being deployed.\n",
      "E5 Model is currently being deployed.\n",
      "E5 Model is currently being deployed.\n",
      "E5 Model is currently being deployed.\n",
      "E5 Model has been successfully deployed.\n"
     ]
    }
   ],
   "source": [
    "# Start trained model deployment if not already deployed\n",
    "\n",
    "client.ml.start_trained_model_deployment(\n",
    "  model_id=MODEL_ID_E5,\n",
    "  number_of_allocations=2, # it can increase depending on volume of data\n",
    "  threads_per_allocation=2,\n",
    "  wait_for=\"starting\"\n",
    ")\n",
    "\n",
    "while True:\n",
    "  status = client.ml.get_trained_models_stats(\n",
    "    model_id=MODEL_ID_E5,\n",
    "  )\n",
    "  if (status[\"trained_model_stats\"][0][\"deployment_stats\"][\"state\"] == \"started\"):\n",
    "    print(\"E5 Model has been successfully deployed.\")\n",
    "    break\n",
    "  else:\n",
    "    print(\"E5 Model is currently being deployed.\")\n",
    "  time.sleep(5)"
   ]
  },
  {
   "cell_type": "markdown",
   "id": "66abad5a",
   "metadata": {},
   "source": [
    "# Create Ingest Pipeline\n",
    "\n",
    "* In the definition below, a field from our index is mapped to the expected input parameter for the embedding model.\n",
    "* In this case, the input is \"ErrorMessage\" and the E5 model expects it to be mapped to \"text_field\".\n",
    "* The output of the E5 model (the embedding tokens) will be written to the target field \"ml\".\n",
    "* The \"inference_config\" section configures the pipeline to perform a text_expansion using the model_id. The resulting text expansion is a list named \"tokens\" stored to the target_field."
   ]
  },
  {
   "cell_type": "code",
   "execution_count": 10,
   "id": "01662c96",
   "metadata": {},
   "outputs": [
    {
     "data": {
      "text/plain": [
       "ObjectApiResponse({'acknowledged': True})"
      ]
     },
     "execution_count": 10,
     "metadata": {},
     "output_type": "execute_result"
    }
   ],
   "source": [
    "INGEST_PIPELINE_NAME_E5 = INGEST_PIPELINE_NAME\n",
    "client.ingest.put_pipeline(\n",
    "    id=INGEST_PIPELINE_NAME_E5, \n",
    "    description=\"Ingest pipeline for E5\",\n",
    "    processors=[\n",
    "    {\n",
    "      \"inference\": {\n",
    "        \"model_id\": MODEL_ID_E5,\n",
    "        \"target_field\": \"passage_embedding\",\n",
    "        \"field_map\": { \n",
    "          \"text\": \"text_field\"\n",
    "        }\n",
    "      }\n",
    "    }\n",
    "  ], on_failure= [\n",
    "    {\n",
    "      \"set\": {\n",
    "        \"description\": \"Index document to '\\''failed-<index>'\\''\",\n",
    "        \"field\": \"_index\",\n",
    "        \"value\": \"failed-{{{_index}}}\"\n",
    "      }\n",
    "    },\n",
    "    {\n",
    "      \"set\": {\n",
    "        \"description\": \"Set error message\",\n",
    "        \"field\": \"ingest.failure\",\n",
    "        \"value\": \"{{_ingest.on_failure_message}}\"\n",
    "      }\n",
    "    }\n",
    "  ]\n",
    ")\n",
    "\n"
   ]
  },
  {
   "cell_type": "markdown",
   "id": "184f8fed",
   "metadata": {},
   "source": [
    "# Create index\n",
    "To use the ELSER model at index time, we'll need to create an index mapping that supports a text_expansion query.\n",
    "\n",
    "ELSER output must be ingested into a field with the rank_features field type."
   ]
  },
  {
   "cell_type": "code",
   "execution_count": 11,
   "id": "761ed663",
   "metadata": {},
   "outputs": [
    {
     "data": {
      "text/plain": [
       "ObjectApiResponse({'acknowledged': True})"
      ]
     },
     "execution_count": 11,
     "metadata": {},
     "output_type": "execute_result"
    }
   ],
   "source": [
    "INDEX_NAME_E5 = INDEX_NAME_DOC\n",
    "client.indices.delete(index=INDEX_NAME_E5, ignore_unavailable=True)"
   ]
  },
  {
   "cell_type": "code",
   "execution_count": 42,
   "id": "004fc34b",
   "metadata": {},
   "outputs": [
    {
     "data": {
      "text/plain": [
       "ObjectApiResponse({'acknowledged': True, 'shards_acknowledged': True, 'index': 'sbm-e5-ar-en-saudi-tourism-v2-embedding'})"
      ]
     },
     "execution_count": 42,
     "metadata": {},
     "output_type": "execute_result"
    }
   ],
   "source": [
    "#Additional field mappings can be added in the index, or allow ES to automatically define the field types as data is loaded into the index\n",
    "#client.indices.create(\n",
    "#  index=INDEX_NAME_E5,\n",
    "#  mappings={\n",
    "#    \"properties\": {\n",
    "#      \"title\": { \"type\": \"keyword\" },\n",
    "#     \"text\": { \"type\": \"text\" },\n",
    "#      \"passage_embedding.predicted_value\": {\n",
    "#            \"type\": \"dense_vector\",\n",
    "#            \"dims\": 384,\n",
    "#            \"index\": \"true\",\n",
    "#            \"similarity\": \"cosine\"\n",
    "#        }\n",
    "#    },\n",
    "#    \"_source\": {\n",
    "#        \"includes\": [\n",
    "#             \"title\",\n",
    "#            \"text\",\n",
    "#            \"url\",\n",
    "#            \"passage_embedding.predicted_value\"\n",
    "#        ]\n",
    "#    }\n",
    "#  }\n",
    "#)"
   ]
  },
  {
   "cell_type": "code",
   "execution_count": 47,
   "id": "8210014d",
   "metadata": {},
   "outputs": [
    {
     "name": "stderr",
     "output_type": "stream",
     "text": [
      "/var/folders/78/p0b53zyd5tl59ny9gsg7scrm0000gn/T/ipykernel_62512/1095806310.py:3: DeprecationWarning: Passing transport options in the API method is deprecated. Use 'Elasticsearch.options()' instead.\n",
      "  client.indices.delete(index=INDEX_NAME_E5, ignore=[400, 404])\n"
     ]
    },
    {
     "data": {
      "text/plain": [
       "ObjectApiResponse({'acknowledged': True})"
      ]
     },
     "execution_count": 47,
     "metadata": {},
     "output_type": "execute_result"
    }
   ],
   "source": [
    "# Delete index if already exists\n",
    "\n",
    "client.indices.delete(index=INDEX_NAME_E5, ignore=[400, 404])"
   ]
  },
  {
   "cell_type": "code",
   "execution_count": 12,
   "id": "ad673cc9",
   "metadata": {},
   "outputs": [
    {
     "data": {
      "text/plain": [
       "ObjectApiResponse({'acknowledged': True, 'shards_acknowledged': True, 'index': 'indra-e5'})"
      ]
     },
     "execution_count": 12,
     "metadata": {},
     "output_type": "execute_result"
    }
   ],
   "source": [
    "#Additional field mappings can be added in the index, or allow ES to automatically define the field types as data is loaded into the index\n",
    "client.indices.create(\n",
    "  index=INDEX_NAME_E5,\n",
    "  mappings={\n",
    "    \"properties\": {\n",
    "      \"title\": { \"type\": \"keyword\" },\n",
    "      \"text\": { \"type\": \"text\" },\n",
    "      \"url\": { \"type\": \"keyword\" },  # Ensure the url field is defined if needed\n",
    "      'chunk_num': { \"type\": \"text\" },\n",
    "      \"passage_embedding.predicted_value\": {\n",
    "            \"type\": \"dense_vector\",\n",
    "            \"dims\": 384,\n",
    "            \"index\": \"true\",\n",
    "            \"similarity\": \"cosine\"\n",
    "        }\n",
    "    },\n",
    "    \"_source\": {\n",
    "        \"includes\": [\n",
    "            \"chunk_num\"\n",
    "            \"title\",\n",
    "            \"text\",\n",
    "            \"url\",\n",
    "            \"passage_embedding.predicted_value\"\n",
    "        ]\n",
    "    }\n",
    "  }\n",
    ")\n"
   ]
  }
 ],
 "metadata": {
  "kernelspec": {
   "display_name": "Python 3 (ipykernel)",
   "language": "python",
   "name": "python3"
  },
  "language_info": {
   "codemirror_mode": {
    "name": "ipython",
    "version": 3
   },
   "file_extension": ".py",
   "mimetype": "text/x-python",
   "name": "python",
   "nbconvert_exporter": "python",
   "pygments_lexer": "ipython3",
   "version": "3.11.4"
  }
 },
 "nbformat": 4,
 "nbformat_minor": 5
}
